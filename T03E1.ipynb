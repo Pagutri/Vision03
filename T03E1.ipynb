{
 "cells": [
  {
   "cell_type": "code",
   "execution_count": 1,
   "id": "488fd7e6",
   "metadata": {},
   "outputs": [],
   "source": [
    "import numpy as np\n",
    "import math"
   ]
  },
  {
   "cell_type": "code",
   "execution_count": 3,
   "id": "e8709dad",
   "metadata": {},
   "outputs": [],
   "source": [
    "# Parametros extrinsecos\n",
    "phi = np.pi / 3.0 # Angulo de rotacion con respecto al eje x\n",
    "R = np.zeros((3, 3)) # Matriz de rotacion\n",
    "R[0][0] = 1.0\n",
    "R[1][1] = R[2][2] = math.cos(phi)\n",
    "R[2][1] = math.sin(phi)\n",
    "R[1][2] = -R[2][1]\n",
    "t = np.array([3.0, 2.0, 1.0]) # Vector de traslacion"
   ]
  },
  {
   "cell_type": "code",
   "execution_count": 4,
   "id": "1860d119",
   "metadata": {},
   "outputs": [],
   "source": [
    "# Parametros intrinsecos\n",
    "theta = 0.9 * 0.5 * np.pi\n",
    "u = 5.0\n",
    "v = 7.0\n",
    "alpha_u = 10.0\n",
    "alpha_v = 15.0"
   ]
  },
  {
   "cell_type": "code",
   "execution_count": 38,
   "id": "da322a22",
   "metadata": {},
   "outputs": [],
   "source": [
    "def armar_matriz_P(theta, u, v, alpha_u, alpha_v, R, t):\n",
    "    P = np.ones((3, 4))\n",
    "    P[0,0:3] = alpha_u*R[:,0].T - (alpha_u/math.tan(theta))*R[:,1].T + u*R[:,2].T\n",
    "    P[0][3] = alpha_u*t[0] - (alpha_u/math.tan(theta))*t[1] + u*t[2]\n",
    "    P[1,0:3] = (alpha_v/math.sin(theta))*R[:,1].T + v*R[:,2].T\n",
    "    P[1][3] = (alpha_v/math.sin(theta))*t[1] + v*t[2]\n",
    "    P[2,0:3] = R[:,2].T\n",
    "    P[2][3] = t[2]\n",
    "    return P"
   ]
  },
  {
   "cell_type": "code",
   "execution_count": 39,
   "id": "f3d18860",
   "metadata": {},
   "outputs": [],
   "source": [
    "P = armar_matriz_P(theta, u, v, alpha_u, alpha_v, R, t)"
   ]
  },
  {
   "cell_type": "code",
   "execution_count": 42,
   "id": "ad3de569",
   "metadata": {},
   "outputs": [],
   "source": [
    "def descomponer_P(P):\n",
    "    lamda = np.linalg.norm(P[2,0:3])\n",
    "    P = P/lamda\n",
    "    r3 = P[2,0:3]\n",
    "    v = np.dot(r3, P[1,0:3])\n",
    "    g = np.linalg.norm(P[1,0:3] - v*r3)\n",
    "    r2 = (P[1,0:3] - v*r3)/g\n",
    "    t = np.zeros(3)\n",
    "    t[2] = P[2][3]\n",
    "    t[1] = (P[1][3] - v*t[2])/g\n",
    "    u = np.dot(r3, P[0,0:3])\n",
    "    h = np.dot(r2, P[0,0:3])\n",
    "    alpha_u = np.linalg.norm(P[0,0:3] - u*r3 - h*r2)\n",
    "    r1 = (P[0,0:3] - u*r3 - h*r2)/alpha_u\n",
    "    theta = math.atan(alpha_u/h)\n",
    "    alpha_v = g*math.sin(theta)\n",
    "    t[0] = (P[0][3] - h*t[1] - u*t[2])/alpha_u\n",
    "    R = np.array([r1, r2, r3]).T\n",
    "    return [theta, u, v, alpha_u, alpha_v, R, t]"
   ]
  },
  {
   "cell_type": "code",
   "execution_count": 43,
   "id": "a991782f",
   "metadata": {},
   "outputs": [],
   "source": [
    "parametros = descomponer_P(P)"
   ]
  },
  {
   "cell_type": "code",
   "execution_count": 44,
   "id": "eca9c744",
   "metadata": {},
   "outputs": [
    {
     "data": {
      "text/plain": [
       "[-1.413716694115407,\n",
       " 5.0,\n",
       " 7.000000000000001,\n",
       " 10.0,\n",
       " -15.0,\n",
       " array([[ 1.00000000e+00,  0.00000000e+00,  0.00000000e+00],\n",
       "        [ 6.66133815e-17,  5.00000000e-01, -8.66025404e-01],\n",
       "        [ 6.66133815e-17,  8.66025404e-01,  5.00000000e-01]]),\n",
       " array([3., 2., 1.])]"
      ]
     },
     "execution_count": 44,
     "metadata": {},
     "output_type": "execute_result"
    }
   ],
   "source": [
    "parametros"
   ]
  },
  {
   "cell_type": "markdown",
   "id": "4b44cf5e",
   "metadata": {},
   "source": [
    "La interpretacion geometrica de las dos descomposiciones de P esta en los signos de las normas."
   ]
  },
  {
   "cell_type": "code",
   "execution_count": null,
   "id": "ac47cd7a",
   "metadata": {},
   "outputs": [],
   "source": []
  }
 ],
 "metadata": {
  "kernelspec": {
   "display_name": "Python 3 (ipykernel)",
   "language": "python",
   "name": "python3"
  },
  "language_info": {
   "codemirror_mode": {
    "name": "ipython",
    "version": 3
   },
   "file_extension": ".py",
   "mimetype": "text/x-python",
   "name": "python",
   "nbconvert_exporter": "python",
   "pygments_lexer": "ipython3",
   "version": "3.10.6"
  }
 },
 "nbformat": 4,
 "nbformat_minor": 5
}
